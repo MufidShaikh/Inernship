{
 "cells": [
  {
   "cell_type": "raw",
   "id": "55c12a28",
   "metadata": {},
   "source": [
    "Q11 to Q15 are programming questions. Answer them in Jupyter Notebook. \n",
    "11. Write a python program to find the factorial of a number. \n",
    "12. Write a python program to find whether a number is prime or composite. \n",
    "13. Write a python program to check whether a given string is palindrome or not. \n",
    "14. Write a Python program to get the third side of right-angled triangle from two given sides. \n",
    "15. Write a python program to print the frequency of each of the characters present in a given string.\n"
   ]
  },
  {
   "cell_type": "code",
   "execution_count": 18,
   "id": "d53cfaa3",
   "metadata": {
    "scrolled": true
   },
   "outputs": [
    {
     "name": "stdout",
     "output_type": "stream",
     "text": [
      "Enter a number to find the factorial:5\n",
      "Factorial of  5  is:  120\n"
     ]
    }
   ],
   "source": [
    "#Q11. Factorial of a number\n",
    "\n",
    "fnum=int(input(\"Enter a number to find the factorial:\"))\n",
    "fact=1\n",
    "i=2\n",
    "\n",
    "while(i<=fnum):\n",
    "    fact=fact*i\n",
    "    i=i+1\n",
    "\n",
    "print('Factorial of ',fnum,' is: ',fact)"
   ]
  },
  {
   "cell_type": "code",
   "execution_count": 3,
   "id": "efe876cc",
   "metadata": {},
   "outputs": [
    {
     "name": "stdout",
     "output_type": "stream",
     "text": [
      "Enter any number:3\n",
      "3  number is prime number\n"
     ]
    }
   ],
   "source": [
    "#Q12. Find whether a number is prime or composite.\n",
    "\n",
    "number= int(input(\"Enter any number:\"))\n",
    "if(number ==0 or number == 1):\n",
    "    printf(number,\"Number is neither prime nor composite\")\n",
    "elif (number>1) :\n",
    "    for n in range(2,number):\n",
    "        if(number%n == 0):\n",
    "            print(number,\" number is composite number\")\n",
    "            break\n",
    "    else:\n",
    "        print(number,\" number is prime number\")\n",
    "else :\n",
    "    print(\"Please enter positive number only \")"
   ]
  },
  {
   "cell_type": "code",
   "execution_count": 16,
   "id": "c1e60c40",
   "metadata": {},
   "outputs": [
    {
     "name": "stdout",
     "output_type": "stream",
     "text": [
      "To check if word is a palindrome or not:-\n",
      "Enter a word: noaon\n",
      "noaon  is a palindrome.\n"
     ]
    }
   ],
   "source": [
    "#Q13. To check whether a given string is palindrome or not.\n",
    "\n",
    "print(\"To check if word is a palindrome or not:-\")\n",
    "s=str(input('Enter a word: '))\n",
    "f=0\n",
    "l=len(s)-1\n",
    "\n",
    "while (f<l):\n",
    "    if (s[f]==s[l]):\n",
    "        f=f+1\n",
    "        l=l-1\n",
    "        \n",
    "        if (l-f==1 or l-f==0):\n",
    "            print(s,' is a palindrome.')\n",
    "        \n",
    "    else:\n",
    "        print(s,' is not a palindrome.')\n",
    "        break\n",
    "    "
   ]
  },
  {
   "cell_type": "code",
   "execution_count": 30,
   "id": "6c6077c4",
   "metadata": {},
   "outputs": [
    {
     "name": "stdout",
     "output_type": "stream",
     "text": [
      "Enter the two sides of a triangle:-\n",
      "Length: 3\n",
      "Breadth: 4\n",
      "Third side of right-angled triangle is:  5.0\n"
     ]
    }
   ],
   "source": [
    "#Q14. To get the third side of right-angled triangle from two given sides.\n",
    "\n",
    "import math\n",
    "print('Enter the two sides of a triangle:-')\n",
    "l=float(input('Length: '))\n",
    "b=float(input('Breadth: '))\n",
    "\n",
    "h=math.sqrt((l**2)+(b**2))\n",
    "print('Third side of right-angled triangle is: ',h)"
   ]
  },
  {
   "cell_type": "code",
   "execution_count": 27,
   "id": "34814894",
   "metadata": {},
   "outputs": [
    {
     "name": "stdout",
     "output_type": "stream",
     "text": [
      "Enter a word: tool\n",
      "{'t': 1, 'o': 2, 'l': 1}\n"
     ]
    }
   ],
   "source": [
    "#Q15. Frequency of each of the characters present in a given string.\n",
    "word=str(input(\"Enter a word: \"))\n",
    "frequency={}\n",
    "  \n",
    "for i in word:\n",
    "    if i in frequency:\n",
    "        frequency[i]+=1\n",
    "        \n",
    "    else:\n",
    "        frequency[i]=1\n",
    "   \n",
    "print(frequency)"
   ]
  }
 ],
 "metadata": {
  "kernelspec": {
   "display_name": "Python 3",
   "language": "python",
   "name": "python3"
  },
  "language_info": {
   "codemirror_mode": {
    "name": "ipython",
    "version": 3
   },
   "file_extension": ".py",
   "mimetype": "text/x-python",
   "name": "python",
   "nbconvert_exporter": "python",
   "pygments_lexer": "ipython3",
   "version": "3.8.8"
  }
 },
 "nbformat": 4,
 "nbformat_minor": 5
}
